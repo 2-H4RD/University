{
  "cells": [
    {
      "cell_type": "code",
      "id": "initial_id",
      "metadata": {
        "collapsed": true,
        "colab": {
          "base_uri": "https://localhost:8080/"
        },
        "id": "initial_id",
        "outputId": "a9875c11-4d86-4420-fec7-ea8e53367ee1",
        "jupyter": {
          "is_executing": true
        }
      },
      "source": [
        "import pandas as pd\n",
        "import numpy as np\n",
        "from sklearn.linear_model import Perceptron\n",
        "from sklearn.preprocessing import StandardScaler\n",
        "from sklearn.metrics import accuracy_score\n",
        "\n",
        "# Загрузка обучающей и тестовой выборок\n",
        "train_data = pd.read_csv('perceptron-train.csv', header=None)\n",
        "test_data = pd.read_csv('perceptron-test.csv', header=None)\n",
        "\n",
        "print(f\"Обучающая выборка: {train_data.shape[0]} объектов, {train_data.shape[1]-1} признаков\")\n",
        "print(f\"Тестовая выборка: {test_data.shape[0]} объектов, {test_data.shape[1]-1} признаков\")\n",
        "\n",
        "# Разделение на признаки и целевую переменную\n",
        "X_train = train_data.iloc[:, 1:]  # признаки обучающей выборки\n",
        "y_train = train_data.iloc[:, 0]   # целевая переменная обучающей выборки\n",
        "\n",
        "X_test = test_data.iloc[:, 1:]    # признаки тестовой выборки\n",
        "y_test = test_data.iloc[:, 0]     # целевая переменная тестовой выборки\n",
        "\n",
        "# Обучение персептрона со стандартными параметрами\n",
        "perceptron = Perceptron(random_state=241)\n",
        "perceptron.fit(X_train, y_train)\n",
        "\n",
        "# Качество на тестовой выборке до нормализации\n",
        "y_pred = perceptron.predict(X_test)\n",
        "accuracy_before = accuracy_score(y_test, y_pred)\n",
        "\n",
        "print(f\"\\n--- РЕЗУЛЬТАТЫ ДО НОРМАЛИЗАЦИИ ---\")\n",
        "print(f\"Accuracy на тестовой выборке: {accuracy_before:.3f}\")\n",
        "\n",
        "# Нормализация обучающей и тестовой выборки\n",
        "scaler = StandardScaler()\n",
        "X_train_scaled = scaler.fit_transform(X_train)\n",
        "X_test_scaled = scaler.transform(X_test)\n",
        "\n",
        "# Обучение персептрона на нормализованных данных\n",
        "perceptron_scaled = Perceptron(random_state=241)\n",
        "perceptron_scaled.fit(X_train_scaled, y_train)\n",
        "\n",
        "# Качество на тестовой выборке после нормализации\n",
        "y_pred_scaled = perceptron_scaled.predict(X_test_scaled)\n",
        "accuracy_after = accuracy_score(y_test, y_pred_scaled)\n",
        "\n",
        "print(f\"\\n--- РЕЗУЛЬТАТЫ ПОСЛЕ НОРМАЛИЗАЦИИ ---\")\n",
        "print(f\"Accuracy на тестовой выборке: {accuracy_after:.3f}\")\n",
        "\n",
        "# Разность между качеством после нормализации и до нее\n",
        "difference = accuracy_after - accuracy_before\n",
        "\n",
        "print(f\"\\n=== ОТВЕТ ===\")\n",
        "print(f\"Разность accuracy: {difference:.3f}\")"
      ],
      "outputs": [
        {
          "output_type": "stream",
          "name": "stdout",
          "text": [
            "Обучающая выборка: 300 объектов, 2 признаков\n",
            "Тестовая выборка: 200 объектов, 2 признаков\n",
            "\n",
            "--- РЕЗУЛЬТАТЫ ДО НОРМАЛИЗАЦИИ ---\n",
            "Accuracy на тестовой выборке: 0.655\n",
            "\n",
            "--- РЕЗУЛЬТАТЫ ПОСЛЕ НОРМАЛИЗАЦИИ ---\n",
            "Accuracy на тестовой выборке: 0.725\n",
            "\n",
            "=== ОТВЕТ ===\n",
            "Разность accuracy: 0.070\n"
          ]
        }
      ],
      "execution_count": 1
    }
  ],
  "metadata": {
    "kernelspec": {
      "display_name": "Python 3",
      "language": "python",
      "name": "python3"
    },
    "language_info": {
      "codemirror_mode": {
        "name": "ipython",
        "version": 2
      },
      "file_extension": ".py",
      "mimetype": "text/x-python",
      "name": "python",
      "nbconvert_exporter": "python",
      "pygments_lexer": "ipython2",
      "version": "2.7.6"
    },
    "colab": {
      "provenance": []
    }
  },
  "nbformat": 4,
  "nbformat_minor": 5
}