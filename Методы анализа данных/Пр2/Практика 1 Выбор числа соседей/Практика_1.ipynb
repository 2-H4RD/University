{
  "cells": [
    {
      "cell_type": "code",
      "id": "initial_id",
      "metadata": {
        "collapsed": true,
        "ExecuteTime": {
          "end_time": "2025-10-19T16:31:40.783225Z",
          "start_time": "2025-10-19T16:31:40.765544Z"
        },
        "colab": {
          "base_uri": "https://localhost:8080/",
          "height": 0
        },
        "id": "initial_id",
        "outputId": "47ddc30f-7f7f-4ee3-dcce-34ed0d736ca9"
      },
      "source": [
        "import pandas as pd\n",
        "import numpy as np\n",
        "from sklearn.neighbors import KNeighborsClassifier\n",
        "from sklearn.model_selection import KFold, cross_val_score\n",
        "from sklearn.preprocessing import scale\n",
        "from sklearn.metrics import accuracy_score\n",
        "\n",
        "# 1. Загрузка данных из файла wine.data\n",
        "# Указываем, что файл без заголовков и используем названия колонок из описания\n",
        "column_names = [\n",
        "    'Class',\n",
        "    'Alcohol',\n",
        "    'Malic acid',\n",
        "    'Ash',\n",
        "    'Alcalinity of ash',\n",
        "    'Magnesium',\n",
        "    'Total phenols',\n",
        "    'Flavanoids',\n",
        "    'Nonflavanoid phenols',\n",
        "    'Proanthocyanins',\n",
        "    'Color intensity',\n",
        "    'Hue',\n",
        "    'OD280/OD315 of diluted wines',\n",
        "    'Proline'\n",
        "]\n",
        "data = pd.read_csv('wine.data', header=None, names=column_names)\n",
        "\n",
        "X = data.drop('Class', axis=1)\n",
        "y = data['Class']\n",
        "\n",
        "print(f\"Размерность данных: {X.shape}\")\n",
        "print(f\"Количество классов: {len(np.unique(y))}\")\n",
        "print(f\"Количество признаков: {X.shape[1]}\")\n",
        "\n",
        "# Создание генератора разбиений для кросс-валидации\n",
        "kf = KFold(n_splits=5, shuffle=True, random_state=42)\n",
        "\n",
        "# Поиск оптимального k без масштабирования\n",
        "print(\"\\n--- Поиск оптимального k БЕЗ масштабирования ---\")\n",
        "accuracies = []\n",
        "best_k1 = 1\n",
        "best_accuracy1 = 0\n",
        "for k in range(1, 51):\n",
        "    knn = KNeighborsClassifier(n_neighbors=k)\n",
        "    scores = cross_val_score(knn, X, y, cv=kf, scoring='accuracy')\n",
        "    mean_accuracy = np.mean(scores)\n",
        "    accuracies.append(mean_accuracy)\n",
        "    if mean_accuracy > best_accuracy1:\n",
        "        best_accuracy1 = mean_accuracy\n",
        "        best_k1 = k\n",
        "print(f\"Оптимальное k без масштабирования: {best_k1}\")\n",
        "print(f\"Точность при k={best_k1}: {best_accuracy1:.2f}\")\n",
        "\n",
        "# Масштабирование признаков и повторный поиск\n",
        "print(\"\\n--- Поиск оптимального k С масштабированием ---\")\n",
        "X_scaled = scale(X)\n",
        "accuracies_scaled = []\n",
        "best_k2 = 1\n",
        "best_accuracy2 = 0\n",
        "for k in range(1, 51):\n",
        "    knn = KNeighborsClassifier(n_neighbors=k)\n",
        "    scores = cross_val_score(knn, X_scaled, y, cv=kf, scoring='accuracy')\n",
        "    mean_accuracy = np.mean(scores)\n",
        "    accuracies_scaled.append(mean_accuracy)\n",
        "    if mean_accuracy > best_accuracy2:\n",
        "        best_accuracy2 = mean_accuracy\n",
        "        best_k2 = k\n",
        "print(f\"Оптимальное k с масштабированием: {best_k2}\")\n",
        "print(f\"Точность при k={best_k2}: {best_accuracy2:.2f}\")\n",
        "\n",
        "# Сравнение результатов\n",
        "print(\"\\n--- Сравнение результатов ---\")\n",
        "print(f\"Улучшение точности: {best_accuracy2 - best_accuracy1:.2f}\")\n",
        "print(f\"Масштабирование признаков помогло: {'ДА' if best_accuracy2 > best_accuracy1 else 'НЕТ'}\")\n",
        "\n",
        "# Ответы на вопросы\n",
        "print(\"\\n=== ОТВЕТЫ НА ВОПРОСЫ ===\")\n",
        "print(f\"1. Оптимальное k без масштабирования: {best_k1}\")\n",
        "print(f\"2. Точность при этом k: {best_accuracy1:.2f}\")\n",
        "print(f\"3. Оптимальное k с масштабированием: {best_k2}\")\n",
        "print(f\"4. Точность при этом k: {best_accuracy2:.2f}\")\n",
        "print(f\"5. Масштабирование признаков помогло: ДА\")"
      ],
      "outputs": [
        {
          "output_type": "stream",
          "name": "stdout",
          "text": [
            "Размерность данных: (178, 13)\n",
            "Количество классов: 3\n",
            "Количество признаков: 13\n",
            "\n",
            "--- Поиск оптимального k БЕЗ масштабирования ---\n",
            "Оптимальное k без масштабирования: 1\n",
            "Точность при k=1: 0.73\n",
            "\n",
            "--- Поиск оптимального k С масштабированием ---\n",
            "Оптимальное k с масштабированием: 29\n",
            "Точность при k=29: 0.98\n",
            "\n",
            "--- Сравнение результатов ---\n",
            "Улучшение точности: 0.25\n",
            "Масштабирование признаков помогло: ДА\n",
            "\n",
            "=== ОТВЕТЫ НА ВОПРОСЫ ===\n",
            "1. Оптимальное k без масштабирования: 1\n",
            "2. Точность при этом k: 0.73\n",
            "3. Оптимальное k с масштабированием: 29\n",
            "4. Точность при этом k: 0.98\n",
            "5. Масштабирование признаков помогло: ДА\n"
          ]
        }
      ],
      "execution_count": 2
    },
    {
      "metadata": {
        "ExecuteTime": {
          "end_time": "2025-10-19T16:25:29.277203700Z",
          "start_time": "2025-10-19T16:25:18.763103Z"
        },
        "id": "47239e84649a5b71"
      },
      "cell_type": "code",
      "source": [],
      "id": "47239e84649a5b71",
      "outputs": [],
      "execution_count": null
    }
  ],
  "metadata": {
    "kernelspec": {
      "display_name": "Python 3",
      "language": "python",
      "name": "python3"
    },
    "language_info": {
      "codemirror_mode": {
        "name": "ipython",
        "version": 2
      },
      "file_extension": ".py",
      "mimetype": "text/x-python",
      "name": "python",
      "nbconvert_exporter": "python",
      "pygments_lexer": "ipython2",
      "version": "2.7.6"
    },
    "colab": {
      "provenance": []
    }
  },
  "nbformat": 4,
  "nbformat_minor": 5
}